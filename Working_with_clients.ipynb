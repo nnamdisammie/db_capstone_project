{
 "cells": [
  {
   "cell_type": "code",
   "execution_count": 2,
   "metadata": {},
   "outputs": [
    {
     "name": "stdout",
     "output_type": "stream",
     "text": [
      "The database little_lemon is created.\n",
      "\n",
      "The database little_lemon is set for use.\n",
      "\n",
      "MenuItmes table is created.\n",
      "\n",
      "Menu table is created.\n",
      "\n",
      "Bookings table is created.\n",
      "\n",
      "Orders table is created.\n",
      "\n",
      "Following tables are created in the little_lemon database.\n",
      "\n",
      "('bookings',)\n",
      "('menuitems',)\n",
      "('menus',)\n",
      "('orders',)\n"
     ]
    }
   ],
   "source": [
    "# Importing the MySQL Connector/Python\n",
    "import mysql.connector as connector\n",
    "\n",
    "# Establishing connection between Python and MySQL database via connector API\n",
    "connection=connector.connect(\n",
    "                             user=\"root\",\n",
    "                             password=\"Atdimpley$01\",\n",
    "                            )\n",
    "\n",
    "# Creating a cursor object to communicate with entire MySQL database\n",
    "cursor = connection.cursor()\n",
    "\n",
    "# If exist, drop the database first, and create again\n",
    "try:\n",
    "    cursor.execute(\"CREATE DATABASE little_lemon\")\n",
    "except:\n",
    "    cursor.execute(\"drop database little_lemon\")\n",
    "    cursor.execute(\"CREATE DATABASE little_lemon\")\n",
    "print(\"The database little_lemon is created.\\n\")    \n",
    "\n",
    "# Set little_lemon database for use \n",
    "cursor.execute(\"USE little_lemon\")\n",
    "print(\"The database little_lemon is set for use.\\n\")\n",
    "\n",
    "# The SQL query for MenuItems table is: \n",
    "create_menuitem_table=\"\"\"\n",
    "CREATE TABLE MenuItems (\n",
    "ItemID INT AUTO_INCREMENT,\n",
    "Name VARCHAR(200),\n",
    "Type VARCHAR(100),\n",
    "Price INT,\n",
    "PRIMARY KEY (ItemID)\n",
    ");\"\"\"\n",
    "\n",
    "# Create MenuItems table\n",
    "cursor.execute(create_menuitem_table)\n",
    "print(\"MenuItmes table is created.\\n\")\n",
    "\n",
    "# The SQL query for Menu table is:\n",
    "create_menu_table=\"\"\"\n",
    "CREATE TABLE Menus (\n",
    "MenuID INT,\n",
    "ItemID INT,\n",
    "Cuisine VARCHAR(100),\n",
    "PRIMARY KEY (MenuID,ItemID)\n",
    ");\"\"\"\n",
    "\n",
    "# Create Menu table\n",
    "cursor.execute(create_menu_table)\n",
    "print(\"Menu table is created.\\n\")\n",
    "\n",
    "# The SQL query for Bookings table is:\n",
    "create_booking_table=\"\"\"\n",
    "CREATE TABLE Bookings (\n",
    "BookingID INT AUTO_INCREMENT,\n",
    "TableNo INT,\n",
    "GuestFirstName VARCHAR(100) NOT NULL,\n",
    "GuestLastName VARCHAR(100) NOT NULL,\n",
    "BookingSlot TIME NOT NULL,\n",
    "EmployeeID INT,\n",
    "PRIMARY KEY (BookingID)\n",
    ");\"\"\"\n",
    "\n",
    "# Create Bookings table\n",
    "cursor.execute(create_booking_table)\n",
    "print(\"Bookings table is created.\\n\")\n",
    "\n",
    "# The SQL query for Bookings table is:\n",
    "create_orders_table=\"\"\"\n",
    "CREATE TABLE Orders (\n",
    "OrderID INT,\n",
    "TableNo INT,\n",
    "MenuID INT,\n",
    "BookingID INT,\n",
    "BillAmount INT,\n",
    "Quantity INT,\n",
    "PRIMARY KEY (OrderID,TableNo)\n",
    ");\"\"\"\n",
    "\n",
    "# Create Orders table\n",
    "cursor.execute(create_orders_table)\n",
    "print(\"Orders table is created.\\n\")\n",
    "\n",
    "# Confirm if the tables are created\n",
    "print(\"Following tables are created in the little_lemon database.\\n\")\n",
    "cursor.execute(\"SHOW TABLES\")\n",
    "for table in cursor:\n",
    "    print(table)"
   ]
  },
  {
   "cell_type": "code",
   "execution_count": 3,
   "metadata": {},
   "outputs": [],
   "source": [
    "# Inserting query to populate \"MenuItems\" table\n",
    "\n",
    "insert_menuitmes=\"\"\"\n",
    "INSERT INTO MenuItems (ItemID, Name, Type, Price)\n",
    "VALUES\n",
    "(1,'Olives','Starters',5),\n",
    "(2,'Flatbread','Starters', 5),\n",
    "(3, 'Minestrone', 'Starters', 8),\n",
    "(4, 'Tomato bread','Starters', 8),\n",
    "(5, 'Falafel', 'Starters', 7),\n",
    "(6, 'Hummus', 'Starters', 5),\n",
    "(7, 'Greek salad', 'Main Courses', 15),\n",
    "(8, 'Bean soup', 'Main Courses', 12),\n",
    "(9, 'Pizza', 'Main Courses', 15),\n",
    "(10,'Greek yoghurt','Desserts', 7),\n",
    "(11, 'Ice cream', 'Desserts', 6),\n",
    "(12, 'Cheesecake', 'Desserts', 4),\n",
    "(13, 'Athens White wine', 'Drinks', 25),\n",
    "(14, 'Corfu Red Wine', 'Drinks', 30),\n",
    "(15, 'Turkish Coffee', 'Drinks', 10),\n",
    "(16, 'Turkish Coffee', 'Drinks', 10),\n",
    "(17, 'Kabasa', 'Main Courses', 17);\"\"\"\n"
   ]
  },
  {
   "cell_type": "code",
   "execution_count": 4,
   "metadata": {},
   "outputs": [],
   "source": [
    "# Inserting query to populate \"Menu\" table\n",
    "\n",
    "insert_menu=\"\"\"\n",
    "INSERT INTO Menus (MenuID,ItemID,Cuisine)\n",
    "VALUES\n",
    "(1, 1, 'Greek'),\n",
    "(1, 7, 'Greek'),\n",
    "(1, 10, 'Greek'),\n",
    "(1, 13, 'Greek'),\n",
    "(2, 3, 'Italian'),\n",
    "(2, 9, 'Italian'),\n",
    "(2, 12, 'Italian'),\n",
    "(2, 15, 'Italian'),\n",
    "(3, 5, 'Turkish'),\n",
    "(3, 17, 'Turkish'),\n",
    "(3, 11, 'Turkish'),\n",
    "(3, 16, 'Turkish');\"\"\""
   ]
  },
  {
   "cell_type": "code",
   "execution_count": 5,
   "metadata": {},
   "outputs": [],
   "source": [
    "# Inserting query to populate \"Bookings\" table\n",
    "\n",
    "insert_bookings=\"\"\"\n",
    "INSERT INTO Bookings (BookingID, TableNo, GuestFirstName, \n",
    "GuestLastName, BookingSlot, EmployeeID)\n",
    "VALUES\n",
    "(1,12,'Anna','Iversen','19:00:00',1),\n",
    "(2, 12, 'Joakim', 'Iversen', '19:00:00', 1),\n",
    "(3, 19, 'Vanessa', 'McCarthy', '15:00:00', 3),\n",
    "(4, 15, 'Marcos', 'Romero', '17:30:00', 4),\n",
    "(5, 5, 'Hiroki', 'Yamane', '18:30:00', 2),\n",
    "(6, 8, 'Diana', 'Pinto', '20:00:00', 5);\"\"\""
   ]
  },
  {
   "cell_type": "code",
   "execution_count": 6,
   "metadata": {},
   "outputs": [],
   "source": [
    "# Insert query to populate \"Orders\" table\n",
    "\n",
    "insert_orders=\"\"\"\n",
    "INSERT INTO Orders (OrderID, TableNo, MenuID, BookingID, Quantity, BillAmount)\n",
    "VALUES\n",
    "(1, 12, 1, 1, 2, 86),\n",
    "(2, 19, 2, 2, 1, 37),\n",
    "(3, 15, 2, 3, 1, 37),\n",
    "(4, 5, 3, 4, 1, 40),\n",
    "(5, 8, 1, 5, 1, 43);\"\"\""
   ]
  },
  {
   "cell_type": "code",
   "execution_count": 7,
   "metadata": {},
   "outputs": [
    {
     "name": "stdout",
     "output_type": "stream",
     "text": [
      "Inserting data in MenuItems table.\n",
      "Total number of rows in MenuItem table:  17\n",
      "Inserting data in Menus table.\n",
      "Total number of rows in Menu table:  12\n",
      "Inserting data in Bookings table.\n",
      "Total number of rows in Bookings table:  6\n",
      "Inserting data in Orders table.\n",
      "Total number of rows in Orders table:  5\n"
     ]
    }
   ],
   "source": [
    "print(\"Inserting data in MenuItems table.\")\n",
    "# Populating MenuItems table\n",
    "cursor.execute(insert_menuitmes)\n",
    "print(\"Total number of rows in MenuItem table: \", cursor.rowcount)\n",
    "connection.commit()\n",
    "\n",
    "print(\"Inserting data in Menus table.\")\n",
    "# Populating MenuItems table\n",
    "cursor.execute(insert_menu)\n",
    "print(\"Total number of rows in Menu table: \", cursor.rowcount)\n",
    "connection.commit()\n",
    "\n",
    "print(\"Inserting data in Bookings table.\")\n",
    "# Populating Bookings table\n",
    "cursor.execute(insert_bookings)\n",
    "print(\"Total number of rows in Bookings table: \", cursor.rowcount)\n",
    "connection.commit()\n",
    "\n",
    "print(\"Inserting data in Orders table.\")\n",
    "# Populating Orders table\n",
    "cursor.execute(insert_orders)\n",
    "print(\"Total number of rows in Orders table: \", cursor.rowcount)\n",
    "connection.commit()"
   ]
  },
  {
   "cell_type": "code",
   "execution_count": 8,
   "metadata": {},
   "outputs": [
    {
     "name": "stdout",
     "output_type": "stream",
     "text": [
      "Data in the \"Bookings\" table:\n",
      "('GuestFirstName', 'GuestLastName', 'TableNo')\n",
      "('Anna', 'Iversen', 12)\n",
      "('Joakim', 'Iversen', 12)\n",
      "('Vanessa', 'McCarthy', 19)\n",
      "('Marcos', 'Romero', 15)\n",
      "('Hiroki', 'Yamane', 5)\n",
      "('Diana', 'Pinto', 8)\n"
     ]
    }
   ],
   "source": [
    "# Read query\n",
    "all_bookings = \"\"\"SELECT GuestFirstName, GuestLastName, \n",
    "TableNo FROM bookings;\"\"\"\n",
    "\n",
    "# Eexecute query \n",
    "cursor.execute(all_bookings)\n",
    "\n",
    "# Fetching all results that satisfy the query\n",
    "results = cursor.fetchall()\n",
    "\n",
    "# Retrieving column names\n",
    "cols = cursor.column_names\n",
    "\n",
    "# Print column names and records from results using for loop\n",
    "print(\"\"\"Data in the \"Bookings\" table:\"\"\")\n",
    "print(cols)\n",
    "for result in results:\n",
    "    print(result)"
   ]
  },
  {
   "cell_type": "code",
   "execution_count": 9,
   "metadata": {},
   "outputs": [
    {
     "name": "stdout",
     "output_type": "stream",
     "text": [
      "Data in the \"Menu\" table:\n",
      "('MenuID', 'ItemID', 'Cuisine')\n",
      "(1, 1, 'Greek')\n",
      "(1, 7, 'Greek')\n",
      "(1, 10, 'Greek')\n"
     ]
    }
   ],
   "source": [
    "# Query to retrieve all bookings is: \n",
    "all_menus = \"\"\"SELECT * FROM Menus;\"\"\"\n",
    "\n",
    "# Execute query \n",
    "cursor.execute(all_menus)\n",
    "\n",
    "# Fetch fist 3 records in results\n",
    "results = cursor.fetchmany(size=3)\n",
    "\n",
    "# Retrieving column names\n",
    "cols = cursor.column_names\n",
    "\n",
    "# Print column names and records from results using for loop\n",
    "print(\"\"\"Data in the \"Menu\" table:\"\"\")\n",
    "print(cols)\n",
    "for result in results:\n",
    "    print(result)"
   ]
  },
  {
   "cell_type": "code",
   "execution_count": 10,
   "metadata": {},
   "outputs": [
    {
     "name": "stdout",
     "output_type": "stream",
     "text": [
      "(1, 13, 'Greek')\n",
      "(2, 3, 'Italian')\n",
      "(2, 9, 'Italian')\n",
      "(2, 12, 'Italian')\n",
      "(2, 15, 'Italian')\n",
      "(3, 5, 'Turkish')\n",
      "(3, 11, 'Turkish')\n",
      "(3, 16, 'Turkish')\n",
      "(3, 17, 'Turkish')\n"
     ]
    }
   ],
   "source": [
    "# Remaining records after fetching the first three\n",
    "results= cursor.fetchall()\n",
    "for result in results:\n",
    "    print(result)"
   ]
  },
  {
   "cell_type": "code",
   "execution_count": 11,
   "metadata": {},
   "outputs": [
    {
     "name": "stdout",
     "output_type": "stream",
     "text": [
      "Data in the \"Menu\" table:\n",
      "('MenuID', 'ItemID', 'Cuisine')\n",
      "(1, 1, 'Greek')\n",
      "(1, 7, 'Greek')\n",
      "(1, 10, 'Greek')\n"
     ]
    }
   ],
   "source": [
    "# Query to retrieve only first three records from the bookings table is:\n",
    "all_menus = \"\"\"SELECT * FROM Menus LIMIT 3;\"\"\"\n",
    "\n",
    "# Executing query \n",
    "cursor.execute(all_menus)\n",
    "\n",
    "# Fetching fist 3 records in results\n",
    "results = cursor.fetchall()   \n",
    "\n",
    "# Retrieving column names\n",
    "cols = cursor.column_names\n",
    "\n",
    "# Printing column names and records from results using for loop\n",
    "print(\"\"\"Data in the \"Menu\" table:\"\"\")\n",
    "print(cols)\n",
    "for result in results:\n",
    "    print(result)"
   ]
  },
  {
   "cell_type": "code",
   "execution_count": 12,
   "metadata": {},
   "outputs": [],
   "source": [
    "# Closing the cursor and the connection\n",
    "#if connection.is_connected():\n",
    "    #cursor.close()\n",
    "    #print(\"The cursor is closed.\")\n",
    "    #connection.close()\n",
    "    #print(\"MySQL connection is closed.\")\n",
    "#else:\n",
    "    #print(\"Connection is already closed\")"
   ]
  },
  {
   "cell_type": "code",
   "execution_count": 13,
   "metadata": {},
   "outputs": [],
   "source": [
    "books = \"\"\"SELECT * FROM bookings;\"\"\""
   ]
  },
  {
   "cell_type": "code",
   "execution_count": 14,
   "metadata": {},
   "outputs": [
    {
     "name": "stdout",
     "output_type": "stream",
     "text": [
      "(1, 12, 'Anna', 'Iversen', datetime.timedelta(seconds=68400), 1)\n",
      "(2, 12, 'Joakim', 'Iversen', datetime.timedelta(seconds=68400), 1)\n",
      "(3, 19, 'Vanessa', 'McCarthy', datetime.timedelta(seconds=54000), 3)\n",
      "(4, 15, 'Marcos', 'Romero', datetime.timedelta(seconds=63000), 4)\n",
      "(5, 5, 'Hiroki', 'Yamane', datetime.timedelta(seconds=66600), 2)\n",
      "(6, 8, 'Diana', 'Pinto', datetime.timedelta(seconds=72000), 5)\n"
     ]
    }
   ],
   "source": [
    "cursor.execute(books)\n",
    "results = cursor.fetchall()\n",
    "for result in results:\n",
    "    print(result)"
   ]
  },
  {
   "cell_type": "code",
   "execution_count": 15,
   "metadata": {},
   "outputs": [
    {
     "name": "stdout",
     "output_type": "stream",
     "text": [
      "('BookingID', 'TableNo', 'GuestFirstName', 'GuestLastName', 'BookingSlot', 'EmployeeID')\n"
     ]
    }
   ],
   "source": [
    "cols = cursor.column_names\n",
    "print(cols)"
   ]
  },
  {
   "cell_type": "code",
   "execution_count": 16,
   "metadata": {},
   "outputs": [],
   "source": [
    "update_bookings = \"\"\"\n",
    "UPDATE bookings\n",
    "SET TableNo = 10\n",
    "WHERE BookingID=6;\"\"\""
   ]
  },
  {
   "cell_type": "code",
   "execution_count": 17,
   "metadata": {},
   "outputs": [],
   "source": [
    "cursor.execute(update_bookings)"
   ]
  },
  {
   "cell_type": "code",
   "execution_count": 18,
   "metadata": {},
   "outputs": [],
   "source": [
    "connection.commit()"
   ]
  },
  {
   "cell_type": "code",
   "execution_count": 19,
   "metadata": {},
   "outputs": [],
   "source": [
    "update_booking = \"\"\"\n",
    "UPDATE bookings\n",
    "SET TableNo=11, EmployeeID=6\n",
    "WHERE BookingID=2;\"\"\""
   ]
  },
  {
   "cell_type": "code",
   "execution_count": 20,
   "metadata": {},
   "outputs": [],
   "source": [
    "cursor.execute(update_booking)"
   ]
  },
  {
   "cell_type": "code",
   "execution_count": 21,
   "metadata": {},
   "outputs": [],
   "source": [
    "connection.commit()"
   ]
  },
  {
   "cell_type": "code",
   "execution_count": 22,
   "metadata": {},
   "outputs": [
    {
     "name": "stdout",
     "output_type": "stream",
     "text": [
      "(1, 12, 'Anna', 'Iversen', datetime.timedelta(seconds=68400), 1)\n",
      "(2, 11, 'Joakim', 'Iversen', datetime.timedelta(seconds=68400), 6)\n",
      "(3, 19, 'Vanessa', 'McCarthy', datetime.timedelta(seconds=54000), 3)\n",
      "(4, 15, 'Marcos', 'Romero', datetime.timedelta(seconds=63000), 4)\n",
      "(5, 5, 'Hiroki', 'Yamane', datetime.timedelta(seconds=66600), 2)\n",
      "(6, 10, 'Diana', 'Pinto', datetime.timedelta(seconds=72000), 5)\n"
     ]
    }
   ],
   "source": [
    "book = \"\"\" SELECT * FROM Bookings;\"\"\"\n",
    "cursor.execute(book)\n",
    "results = cursor.fetchall()\n",
    "for result in results:\n",
    "    print(result)"
   ]
  },
  {
   "cell_type": "code",
   "execution_count": 23,
   "metadata": {},
   "outputs": [],
   "source": [
    "delete_query_greek = \"\"\" DELETE FROM Menus WHERE Cuisine = 'Greek'\"\"\"\n",
    "cursor.execute(delete_query_greek)\n",
    "connection.commit()"
   ]
  },
  {
   "cell_type": "code",
   "execution_count": 24,
   "metadata": {},
   "outputs": [
    {
     "name": "stdout",
     "output_type": "stream",
     "text": [
      "(2, 3, 'Italian')\n",
      "(2, 9, 'Italian')\n",
      "(2, 12, 'Italian')\n",
      "(2, 15, 'Italian')\n",
      "(3, 5, 'Turkish')\n",
      "(3, 11, 'Turkish')\n",
      "(3, 16, 'Turkish')\n",
      "(3, 17, 'Turkish')\n"
     ]
    }
   ],
   "source": [
    "menu = \"\"\" SELECT * FROM Menus;\"\"\"\n",
    "cursor.execute(menu)\n",
    "results = cursor.fetchall()\n",
    "for result in results:\n",
    "    print(result)"
   ]
  },
  {
   "cell_type": "code",
   "execution_count": 25,
   "metadata": {},
   "outputs": [
    {
     "name": "stdout",
     "output_type": "stream",
     "text": [
      "(1, 'ANNA IVERSEN')\n",
      "(2, 'JOAKIM IVERSEN')\n",
      "(3, 'VANESSA MCCARTHY')\n",
      "(4, 'MARCOS ROMERO')\n",
      "(5, 'HIROKI YAMANE')\n",
      "(6, 'DIANA PINTO')\n"
     ]
    }
   ],
   "source": [
    "selects = \"\"\" SELECT BookingID, UPPER(CONCAT(GuestFirstName, \" \", GuestLastName)) AS Guestfullname FROM bookings;\"\"\"\n",
    "cursor.execute(selects)\n",
    "results = cursor.fetchall()\n",
    "for result in results:\n",
    "    print(result)"
   ]
  },
  {
   "cell_type": "code",
   "execution_count": 26,
   "metadata": {},
   "outputs": [
    {
     "name": "stdout",
     "output_type": "stream",
     "text": [
      "Today's statistics\n",
      "Number of bookings: 5\n",
      "Total sales: 243\n",
      "Average sales: 48.6000\n",
      "('n_bookings', 'total_sale', 'avgerage_sale')\n"
     ]
    }
   ],
   "source": [
    "sql_query = \"\"\" \n",
    "SELECT \n",
    "COUNT(BookingID) AS n_bookings,\n",
    "SUM(BillAmount) AS total_sale,\n",
    "AVG(BillAmount) AS avgerage_sale\n",
    "FROM orders;\"\"\"\n",
    "\n",
    "cursor.execute(sql_query)\n",
    "results = cursor.fetchall()\n",
    "\n",
    "print(\"Today's statistics\")\n",
    "for result in results:\n",
    "    print(\"Number of bookings:\", result[0])\n",
    "    print(\"Total sales:\", result[1])\n",
    "    print(\"Average sales:\", result[2])\n",
    "    print(cursor.column_names)\n"
   ]
  },
  {
   "cell_type": "code",
   "execution_count": 27,
   "metadata": {},
   "outputs": [
    {
     "name": "stdout",
     "output_type": "stream",
     "text": [
      "('Anna Iversen', 'Time not available')\n",
      "('Joakim Iversen', 'Time not available')\n",
      "('Vanessa McCarthy', 'Late_Afternoon')\n",
      "('Marcos Romero', 'Evening')\n",
      "('Hiroki Yamane', 'Time not available')\n",
      "('Diana Pinto', 'Time not available')\n"
     ]
    }
   ],
   "source": [
    "sql_query = \"\"\"\n",
    "SELECT CONCAT(GuestFirstName, \" \", GuestLastName) AS Guestfullname, \n",
    "CASE \n",
    "    WHEN BookingSlot BETWEEN '15:00:00' AND '16:00:00' THEN \"Late_Afternoon\"\n",
    "    WHEN BookingSlot BETWEEN '17:00:00' AND '18:00:00' THEN \"Evening\"\n",
    "    WHEN BookingSlot BETWEEN '19:00:00' AND '12:00:00' THEN \"Night\"\n",
    "ELSE \"Time not available\"\n",
    "END AS BookingSlot\n",
    "FROM bookings;\"\"\"\n",
    "\n",
    "cursor.execute(sql_query)\n",
    "results = cursor.fetchall()\n",
    "for result in results:\n",
    "    print(result)"
   ]
  },
  {
   "cell_type": "code",
   "execution_count": 28,
   "metadata": {},
   "outputs": [
    {
     "name": "stdout",
     "output_type": "stream",
     "text": [
      "upcoming Bookings:\n",
      "\n",
      "Hour: 15 <<>> 1 Booking/s\n",
      "Hour: 17 <<>> 1 Booking/s\n",
      "Hour: 18 <<>> 1 Booking/s\n",
      "Hour: 19 <<>> 2 Booking/s\n",
      "Hour: 20 <<>> 1 Booking/s\n"
     ]
    }
   ],
   "source": [
    "sql_query = \"\"\"SELECT \n",
    "COUNT(BookingID) AS n_bookings,\n",
    "HOUR(BookingSlot) AS Hour \n",
    "FROM Bookings\n",
    "GROUP BY Hour\n",
    "ORDER BY Hour ASC;\"\"\"\n",
    "\n",
    "cursor.execute(sql_query)\n",
    "results = cursor.fetchall()\n",
    "print(\"\"\"upcoming Bookings:\\n\"\"\")\n",
    "for result in results:\n",
    "    print(\"Hour:\", result[1], \"<<>>\", result[0], \"Booking/s\")"
   ]
  },
  {
   "cell_type": "code",
   "execution_count": 29,
   "metadata": {},
   "outputs": [],
   "source": [
    "cursor.execute(\"DROP PROCEDURE IF EXISTS TopSpender;\")"
   ]
  },
  {
   "cell_type": "code",
   "execution_count": 30,
   "metadata": {},
   "outputs": [],
   "source": [
    "stored_procedure_query=\"\"\"\n",
    "CREATE PROCEDURE Topspender()\n",
    "BEGIN SELECT bookings.BookingID, CONCAT(bookings.GuestFirstName,' ', bookings.GuestLastName) AS customers_name, orders.BillAmount\n",
    "FROM bookings JOIN orders ON bookings.BookingID=orders.BookingID\n",
    "WHERE BillAmount>=50\n",
    "ORDER BY BillAmount DESC;\n",
    "END\n",
    "\"\"\""
   ]
  },
  {
   "cell_type": "code",
   "execution_count": 31,
   "metadata": {},
   "outputs": [],
   "source": [
    "cursor.execute(stored_procedure_query)"
   ]
  },
  {
   "cell_type": "code",
   "execution_count": 32,
   "metadata": {},
   "outputs": [
    {
     "data": {
      "text/plain": [
       "()"
      ]
     },
     "execution_count": 32,
     "metadata": {},
     "output_type": "execute_result"
    }
   ],
   "source": [
    "cursor.callproc(\"Topspender\")"
   ]
  },
  {
   "cell_type": "code",
   "execution_count": 33,
   "metadata": {},
   "outputs": [],
   "source": [
    "results = next(cursor.stored_results())\n",
    "dataset = results.fetchall()"
   ]
  },
  {
   "cell_type": "code",
   "execution_count": 34,
   "metadata": {},
   "outputs": [
    {
     "name": "stdout",
     "output_type": "stream",
     "text": [
      "(1, 'Anna Iversen', 86)\n"
     ]
    }
   ],
   "source": [
    "for data in dataset:\n",
    "    print(data)\n"
   ]
  },
  {
   "cell_type": "code",
   "execution_count": 35,
   "metadata": {},
   "outputs": [],
   "source": [
    "cursor.execute(\"DROP PROCEDURE IF EXISTS NoArrival;\")"
   ]
  },
  {
   "cell_type": "code",
   "execution_count": 36,
   "metadata": {},
   "outputs": [],
   "source": [
    "storedProcedureQuery=\"\"\"\n",
    "CREATE PROCEDURE NoArrival()\n",
    "BEGIN SELECT bookings.BookingID, CONCAT(bookings.GuestFirstName,' ', bookings.GuestLastName) AS customers_name, orders.BillAmount\n",
    "FROM bookings LEFT JOIN orders ON bookings.BookingID=orders.BookingID\n",
    "WHERE BillAmount IS NULL;\n",
    "END\n",
    "\"\"\""
   ]
  },
  {
   "cell_type": "code",
   "execution_count": 37,
   "metadata": {},
   "outputs": [],
   "source": [
    "cursor.execute(storedProcedureQuery)"
   ]
  },
  {
   "cell_type": "code",
   "execution_count": 38,
   "metadata": {},
   "outputs": [
    {
     "data": {
      "text/plain": [
       "()"
      ]
     },
     "execution_count": 38,
     "metadata": {},
     "output_type": "execute_result"
    }
   ],
   "source": [
    "cursor.callproc(\"NoArrival\")"
   ]
  },
  {
   "cell_type": "code",
   "execution_count": 39,
   "metadata": {},
   "outputs": [],
   "source": [
    "results = next(cursor.stored_results())\n",
    "dataset = results.fetchall()"
   ]
  },
  {
   "cell_type": "code",
   "execution_count": 40,
   "metadata": {},
   "outputs": [
    {
     "name": "stdout",
     "output_type": "stream",
     "text": [
      "['BookingID', 'customers_name', 'BillAmount']\n"
     ]
    }
   ],
   "source": [
    "for column_id in cursor.stored_results():\n",
    "    columns = [ column[0] for column in column_id.description ]\n",
    "    print(columns)"
   ]
  },
  {
   "cell_type": "code",
   "execution_count": 41,
   "metadata": {},
   "outputs": [
    {
     "name": "stdout",
     "output_type": "stream",
     "text": [
      "(6, 'Diana Pinto', None)\n"
     ]
    }
   ],
   "source": [
    "for data in dataset:\n",
    "    print(data)"
   ]
  },
  {
   "cell_type": "code",
   "execution_count": 44,
   "metadata": {},
   "outputs": [
    {
     "name": "stdout",
     "output_type": "stream",
     "text": [
      "The connection pool is created with a name: pool.pool_name\n",
      "The pool size is: 3\n"
     ]
    }
   ],
   "source": [
    "from mysql.connector.pooling import MySQLConnectionPool\n",
    "from mysql.connector import Error\n",
    "\n",
    "dbconfig = {\n",
    "    \n",
    "    \"database\":\"little_lemon\",\n",
    "    \"user\":\"root\",\n",
    "    \"password\":\"Atdimpley$01\"\n",
    "}\n",
    "\n",
    "try:\n",
    "    pool = MySQLConnectionPool(pool_name = \"ll_pool_a\",\n",
    "                              pool_size = 3,\n",
    "                              **dbconfig)\n",
    "    print(\"The connection pool is created with a name: pool.pool_name\")\n",
    "    print(\"The pool size is:\", pool.pool_size)\n",
    "    \n",
    "except Error as er:\n",
    "    print(\"Error code:\", er.errno)\n",
    "    print(\"Error message:\", er.msg)"
   ]
  },
  {
   "cell_type": "code",
   "execution_count": 45,
   "metadata": {},
   "outputs": [
    {
     "name": "stdout",
     "output_type": "stream",
     "text": [
      "('BookingId', 'GuestFirstName', 'GuestLastName')\n",
      "(1, 'Anna', 'Iversen')\n",
      "(2, 'Joakim', 'Iversen')\n",
      "(3, 'Vanessa', 'McCarthy')\n",
      "(4, 'Marcos', 'Romero')\n",
      "(5, 'Hiroki', 'Yamane')\n",
      "(6, 'Diana', 'Pinto')\n"
     ]
    }
   ],
   "source": [
    "# Getting the connection from the connection pool \"pool\"\n",
    "connection1 = pool.get_connection()\n",
    "\n",
    "# Creating cursor object to communicate with entire MySQL database\n",
    "cursor = connection1.cursor()\n",
    "\n",
    "#SQL query\n",
    "sql_query = \"SELECT BookingId, GuestFirstName, GuestLastName FROM Bookings;\"\n",
    "cursor.execute(sql_query)\n",
    "results = cursor.fetchall()\n",
    "\n",
    "cols = cursor.column_names\n",
    "print(cols)\n",
    "for result in results:\n",
    "    print(result)\n",
    "    \n",
    "connection1.close()\n"
   ]
  },
  {
   "cell_type": "code",
   "execution_count": 53,
   "metadata": {},
   "outputs": [
    {
     "name": "stdout",
     "output_type": "stream",
     "text": [
      "[Sams] is connected.\n",
      "\n",
      "[John] is connected.\n",
      "\n",
      "[Singh] is connected.\n",
      "\n",
      "No more connections are available.\n",
      "Adding new connection in the pool.\n",
      "A new connection is added in the pool.\n",
      "\n",
      "[Visha] is connected.\n",
      "\n",
      "No more connections are available.\n",
      "Adding new connection in the pool.\n",
      "A new connection is added in the pool.\n",
      "\n",
      "[Alexander] is connected.\n",
      "\n"
     ]
    }
   ],
   "source": [
    "# Create a connection pool\n",
    "from mysql.connector.pooling import MySQLConnectionPool\n",
    "dbconfig = {\n",
    "    \"database\":\"little_lemon\",\n",
    "    \"user\" : \"root\",\n",
    "    \"password\" : \"Atdimpley$01\"\n",
    "}\n",
    "\n",
    "pool = MySQLConnectionPool(pool_name = \"ll_pool_a\",\n",
    "                           pool_size = 3, #default is 5\n",
    "                           **dbconfig)\n",
    "\n",
    "# List of the guests who want to connect to the database\n",
    "guests = [\"Sams\", \"John\", \"Singh\", \"Visha\", \"Alexander\"]\n",
    "\n",
    "import mysql.connector as connector\n",
    "for guest in guests:\n",
    "    try:\n",
    "        guest_connected = pool.get_connection()\n",
    "        print(\"[{}] is connected.\\n\".format(guest))\n",
    "    except:\n",
    "        print(\"No more connections are available.\")\n",
    "        print(\"Adding new connection in the pool.\")\n",
    "        \n",
    "        connection=connector.connect(user=\"root\", password=\"Atdimpley$01\")\n",
    "        pool.add_connection(cnx=connection)\n",
    "        print(\"A new connection is added in the pool.\\n\")\n",
    "        \n",
    "        user_connected = pool.get_connection()\n",
    "        print(\"[{}] is connected.\\n\".format(guest))"
   ]
  },
  {
   "cell_type": "code",
   "execution_count": null,
   "metadata": {},
   "outputs": [],
   "source": []
  }
 ],
 "metadata": {
  "kernelspec": {
   "display_name": "Python 3",
   "language": "python",
   "name": "python3"
  },
  "language_info": {
   "codemirror_mode": {
    "name": "ipython",
    "version": 3
   },
   "file_extension": ".py",
   "mimetype": "text/x-python",
   "name": "python",
   "nbconvert_exporter": "python",
   "pygments_lexer": "ipython3",
   "version": "3.8.5"
  }
 },
 "nbformat": 4,
 "nbformat_minor": 4
}
